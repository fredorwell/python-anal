{
 "cells": [
  {
   "cell_type": "markdown",
   "id": "23f6390c",
   "metadata": {},
   "source": [
    "# Домашнее задание 1"
   ]
  },
  {
   "cell_type": "markdown",
   "id": "bdbf17e4",
   "metadata": {},
   "source": [
    "## Задание 1\n",
    "Оформляйте ноутбук, используя эти советы:\n",
    "\n",
    "## Номер задачи - заголовок 2\n",
    "### Номер подзадачи - заголовок 3\n",
    "\n",
    "Предоставленные наборы данных оформляйте, как код"
   ]
  },
  {
   "cell_type": "markdown",
   "id": "60c7adb0",
   "metadata": {},
   "source": [
    "## Задание 2\n",
    "На складе лежат разные фрукты в разном количестве.\n",
    "Нужно написать функцию, которая на вход принимает любое количество названий фруктов и их количество, а возвращает общее количество фруктов на складе"
   ]
  },
  {
   "cell_type": "code",
   "execution_count": 7,
   "id": "b04eb6d8",
   "metadata": {},
   "outputs": [
    {
     "name": "stdout",
     "output_type": "stream",
     "text": [
      "Всего фруктов на складе: 38\n"
     ]
    }
   ],
   "source": [
    "def total_fruits(fruit_ditc: dict) -> int:\n",
    "    result = sum(fruit_ditc.values())\n",
    "    return result\n",
    "        \n",
    "fruits = {'apple': 15, 'banan': 20, 'lemon': 3}\n",
    "print(f'Всего фруктов на складе: {total_fruits(fruits)}')"
   ]
  },
  {
   "cell_type": "markdown",
   "id": "75dfe185",
   "metadata": {},
   "source": [
    "## Задание 3\n",
    "Дан список с затратами на рекламу. Но в данных есть ошибки, некоторые затраты имеют отрицательную величину. Удалите такие значения из списка и посчитайте суммарные затраты\n",
    "\n",
    "[100, 125, -90, 345, 655, -1, 0, 200]\n",
    "\n",
    "Используйте list comprehensions"
   ]
  },
  {
   "cell_type": "code",
   "execution_count": 11,
   "id": "27b8b280",
   "metadata": {},
   "outputs": [
    {
     "name": "stdout",
     "output_type": "stream",
     "text": [
      "Сумма расходов на рекламу: 1425\n"
     ]
    }
   ],
   "source": [
    "ad_cost = [100, 125, -90, 345, 655, -1, 0, 200]\n",
    "print(f'Сумма расходов на рекламу: {sum([i for i in ad_cost if i > 0])}')"
   ]
  },
  {
   "cell_type": "markdown",
   "id": "5f54acef",
   "metadata": {},
   "source": [
    "## Задание 4\n",
    "Даны два списка.\n",
    "\n",
    "Дата покупки\n",
    "['2021-09-14', '2021-12-15', '2021-09-08', '2021-12-05', '2021-10-09', '2021-09-30', '2021-12-22', '2021-11-29', '2021-12-24', '2021-11-26', '2021-10-27', '2021-12-18', '2021-11-09', '2021-11-23', '2021-09-27', '2021-10-02', '2021-12-27', '2021-09-20', '2021-12-13', '2021-11-01', '2021-11-09', '2021-12-06', '2021-12-08', '2021-10-09', '2021-10-31', '2021-09-30', '2021-11-09', '2021-12-13', '2021-10-26', '2021-12-09']\n",
    "\n",
    "Суммы покупок по датам\n",
    "[1270, 8413, 9028, 3703, 5739, 4095, 295, 4944, 5723, 3701, 4471, 651, 7037, 4274, 6275, 4988, 6930, 2971, 6592, 2004, 2822, 519, 3406, 2732, 5015, 2008, 316, 6333, 5700, 2887]\n",
    "\n"
   ]
  },
  {
   "cell_type": "code",
   "execution_count": 12,
   "id": "4db259b7",
   "metadata": {},
   "outputs": [],
   "source": [
    "date = ['2021-09-14', '2021-12-15', '2021-09-08', '2021-12-05', '2021-10-09', \n",
    "        '2021-09-30', '2021-12-22', '2021-11-29', '2021-12-24', '2021-11-26', \n",
    "        '2021-10-27', '2021-12-18', '2021-11-09', '2021-11-23', '2021-09-27', \n",
    "        '2021-10-02', '2021-12-27', '2021-09-20', '2021-12-13', '2021-11-01', \n",
    "        '2021-11-09', '2021-12-06', '2021-12-08', '2021-10-09', '2021-10-31', \n",
    "        '2021-09-30', '2021-11-09', '2021-12-13', '2021-10-26', '2021-12-09']\n",
    "cost = [1270, 8413, 9028, 3703, 5739, 4095, 295, 4944, 5723, 3701, \n",
    "        4471, 651, 7037, 4274, 6275, 4988, 6930, 2971, 6592, 2004, \n",
    "        2822, 519, 3406, 2732, 5015, 2008, 316, 6333, 5700, 2887]"
   ]
  },
  {
   "cell_type": "markdown",
   "id": "df082891",
   "metadata": {},
   "source": [
    "### Задание 4.1\n",
    "\n",
    "Найдите, какая выручка у компании в ноябре\n",
    "Используйте list comprehensions"
   ]
  },
  {
   "cell_type": "code",
   "execution_count": 26,
   "id": "7f62cde3",
   "metadata": {},
   "outputs": [
    {
     "name": "stdout",
     "output_type": "stream",
     "text": [
      "Выручка в ноябре: 25098 ₽\n"
     ]
    }
   ],
   "source": [
    "november_amount = sum(cost[i] for i in range(len(date)) if date[i].split('-')[1] == '11')\n",
    "print(f'Выручка в ноябре: {november_amount} ₽')"
   ]
  },
  {
   "cell_type": "markdown",
   "id": "9a1633fe",
   "metadata": {},
   "source": [
    "### Задание 4.2\n",
    "\n",
    "Найдите выручку компании в зависимости от месяца\n",
    "Для этого напишите функцию, которая на вход принимает список с датами и список с выручкой, а на выходе словарь, где ключи - это месяцы, а значения - это выручка.\n",
    "Используйте аннотирование типов."
   ]
  },
  {
   "cell_type": "code",
   "execution_count": 51,
   "id": "0cece688",
   "metadata": {},
   "outputs": [
    {
     "name": "stdout",
     "output_type": "stream",
     "text": [
      "{'Сентябрь': 25647, 'Декабрь': 45452, 'Октябрь': 28645, 'Ноябрь': 25098}\n"
     ]
    }
   ],
   "source": [
    "def month_switch(month: str) -> str:\n",
    "    result = month\n",
    "    match result:\n",
    "        case '01':\n",
    "            return \"Январь\"\n",
    "        case '02':\n",
    "            return \"Февраль\"\n",
    "        case '03':\n",
    "            return \"Март\"\n",
    "        case '04':\n",
    "            return \"Апрель\"\n",
    "        case '05':\n",
    "            return \"Май\"\n",
    "        case '06':\n",
    "            return \"Июнь\"\n",
    "        case '07':\n",
    "            return \"Июль\"\n",
    "        case '08':\n",
    "            return \"Август\"\n",
    "        case '09':\n",
    "            return \"Сентябрь\"\n",
    "        case '10':\n",
    "            return \"Октябрь\"\n",
    "        case '11':\n",
    "            return \"Ноябрь\"\n",
    "        case '12':\n",
    "            return \"Декабрь\"\n",
    "        case _:\n",
    "            return \"Не известно\"\n",
    "\n",
    "def month_revenue(dates: list, cost: list) -> dict:\n",
    "    result = {} \n",
    "    for date, amount in zip(dates, cost): \n",
    "        result[month_switch(date.split('-')[1])] = result.get(month_switch(date.split('-')[1]), 0) + amount \n",
    "    return result\n",
    "\n",
    "print(month_revenue(date, cost))"
   ]
  },
  {
   "cell_type": "code",
   "execution_count": null,
   "id": "7ff297fc",
   "metadata": {},
   "outputs": [],
   "source": []
  }
 ],
 "metadata": {
  "kernelspec": {
   "display_name": "Python 3 (ipykernel)",
   "language": "python",
   "name": "python3"
  },
  "language_info": {
   "codemirror_mode": {
    "name": "ipython",
    "version": 3
   },
   "file_extension": ".py",
   "mimetype": "text/x-python",
   "name": "python",
   "nbconvert_exporter": "python",
   "pygments_lexer": "ipython3",
   "version": "3.10.6"
  }
 },
 "nbformat": 4,
 "nbformat_minor": 5
}
